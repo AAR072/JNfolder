{
 "cells": [
  {
   "cell_type": "code",
   "execution_count": 2,
   "id": "0d44ddf3",
   "metadata": {},
   "outputs": [],
   "source": [
    "import pandas as pd\n",
    "import numpy as np\n",
    "from autogluon.tabular import TabularPredictor"
   ]
  },
  {
   "cell_type": "code",
   "execution_count": 3,
   "id": "f0008414",
   "metadata": {},
   "outputs": [],
   "source": [
    "directory = 'C:/Users/Ali-Akber/Desktop/bba/'\n",
    "save_path = directory + 'AutoGluonModels/'\n",
    "label = 'Win or Loss for Celtics'"
   ]
  },
  {
   "cell_type": "code",
   "execution_count": 4,
   "id": "208c63da",
   "metadata": {
    "scrolled": true
   },
   "outputs": [],
   "source": [
    "train_data = pd.read_csv(directory+'bbak.csv')\n",
    "test_data = pd.read_csv(directory+'bbtest.csv')\n",
    "#predictor = TabularPredictor(label=label, path=save_path,).fit(train_data, ag_args_fit={'num_gpus': 1})"
   ]
  },
  {
   "cell_type": "code",
   "execution_count": 5,
   "id": "7ff97646",
   "metadata": {
    "scrolled": true
   },
   "outputs": [
    {
     "data": {
      "text/html": [
       "<div>\n",
       "<style scoped>\n",
       "    .dataframe tbody tr th:only-of-type {\n",
       "        vertical-align: middle;\n",
       "    }\n",
       "\n",
       "    .dataframe tbody tr th {\n",
       "        vertical-align: top;\n",
       "    }\n",
       "\n",
       "    .dataframe thead th {\n",
       "        text-align: right;\n",
       "    }\n",
       "</style>\n",
       "<table border=\"1\" class=\"dataframe\">\n",
       "  <thead>\n",
       "    <tr style=\"text-align: right;\">\n",
       "      <th></th>\n",
       "      <th>Date</th>\n",
       "      <th>Home Team</th>\n",
       "      <th>Away Team</th>\n",
       "      <th>Win or Loss for Celtics</th>\n",
       "    </tr>\n",
       "  </thead>\n",
       "  <tbody>\n",
       "    <tr>\n",
       "      <th>0</th>\n",
       "      <td>46</td>\n",
       "      <td>Warriors</td>\n",
       "      <td>Celtics</td>\n",
       "      <td>Win</td>\n",
       "    </tr>\n",
       "    <tr>\n",
       "      <th>1</th>\n",
       "      <td>47</td>\n",
       "      <td>Warriors</td>\n",
       "      <td>Celtics</td>\n",
       "      <td>Win</td>\n",
       "    </tr>\n",
       "    <tr>\n",
       "      <th>2</th>\n",
       "      <td>48</td>\n",
       "      <td>Celtics</td>\n",
       "      <td>Warriors</td>\n",
       "      <td>Loss</td>\n",
       "    </tr>\n",
       "    <tr>\n",
       "      <th>3</th>\n",
       "      <td>49</td>\n",
       "      <td>Celtics</td>\n",
       "      <td>Warriors</td>\n",
       "      <td>Loss</td>\n",
       "    </tr>\n",
       "    <tr>\n",
       "      <th>4</th>\n",
       "      <td>50</td>\n",
       "      <td>Warriors</td>\n",
       "      <td>Celtics</td>\n",
       "      <td>Win</td>\n",
       "    </tr>\n",
       "  </tbody>\n",
       "</table>\n",
       "</div>"
      ],
      "text/plain": [
       "   Date Home Team Away Team Win or Loss for Celtics\n",
       "0    46  Warriors   Celtics                     Win\n",
       "1    47  Warriors   Celtics                     Win\n",
       "2    48   Celtics  Warriors                    Loss\n",
       "3    49   Celtics  Warriors                    Loss\n",
       "4    50  Warriors   Celtics                     Win"
      ]
     },
     "execution_count": 5,
     "metadata": {},
     "output_type": "execute_result"
    }
   ],
   "source": [
    "predictor = TabularPredictor.load(\"C:/Users/Ali-Akber/Desktop/bba/AutoGluonModels/\")\n",
    "y_pred = predictor.predict(test_data)\n",
    "import pandas as pd\n",
    "sub = pd.read_csv(directory+'submission1.csv')\n",
    "sub[label] = y_pred\n",
    "sub.to_csv(directory+'submission1.csv', index=False)\n",
    "sub.head()"
   ]
  },
  {
   "cell_type": "code",
   "execution_count": null,
   "id": "60cc55ec",
   "metadata": {},
   "outputs": [],
   "source": [
    "print(y_pred)"
   ]
  }
 ],
 "metadata": {
  "kernelspec": {
   "display_name": "fastai",
   "language": "python",
   "name": "fastai"
  },
  "language_info": {
   "codemirror_mode": {
    "name": "ipython",
    "version": 3
   },
   "file_extension": ".py",
   "mimetype": "text/x-python",
   "name": "python",
   "nbconvert_exporter": "python",
   "pygments_lexer": "ipython3",
   "version": "3.7.13"
  }
 },
 "nbformat": 4,
 "nbformat_minor": 5
}
